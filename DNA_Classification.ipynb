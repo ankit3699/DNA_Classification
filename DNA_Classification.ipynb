{
  "nbformat": 4,
  "nbformat_minor": 0,
  "metadata": {
    "colab": {
      "provenance": [],
      "collapsed_sections": [],
      "toc_visible": true
    },
    "kernelspec": {
      "name": "python3",
      "display_name": "Python 3"
    },
    "language_info": {
      "name": "python"
    }
  },
  "cells": [
    {
      "cell_type": "markdown",
      "metadata": {
        "id": "pM_jCsSn57TX"
      },
      "source": [
        "#Library in Python\n",
        "\n",
        "---\n",
        "\n",
        "Libraries are the tools in the programming language that make the work of the programmer a lot easier. These are nothing but collection of function which can be added to your application and the functions called as necessary, just like any other functions in the application.\n",
        "<br>\n",
        "Libraries we use here are Numpy, Pandas and sklearn. These are few of the famous libraries we use for the processing of data.\n",
        "<br><br>\n",
        "**Numpy:**<br>\n",
        "In Python we have lists that serve the purpose of arrays, but they are slow to process. NumPy aims to provide an array object that is up to 50x faster than traditional Python lists.<br><br>\n",
        "**Pandas:**<br>\n",
        "pandas is a fast, powerful, flexible and easy to use open source data analysis and manipulation tool, built on top of the Python programming language.<br><br>\n",
        "**sklearn:**\n",
        "<br>Scikit-learn is a free machine learning library for Python. It features various algorithms like support vector machine, random forests, and k-neighbours, and it also supports Python numerical and scientific libraries like NumPy and SciPy."
      ]
    },
    {
      "cell_type": "code",
      "metadata": {
        "colab": {
          "base_uri": "https://localhost:8080/"
        },
        "id": "izE67BcBtoIG",
        "outputId": "e736d256-8798-4b0f-c287-526148ea56bc"
      },
      "source": [
        "import sys\n",
        "import numpy\n",
        "import pandas\n",
        "import sklearn\n",
        "\n",
        "print('Python: {}'.format(sys.version))\n",
        "print('Numpy: {}'.format(numpy.__version__))\n",
        "print('Pandas: {}'.format(pandas.__version__))\n",
        "print('sklearn: {}'.format(sklearn.__version__))"
      ],
      "execution_count": null,
      "outputs": [
        {
          "output_type": "stream",
          "text": [
            "Python: 3.7.10 (default, May  3 2021, 02:48:31) \n",
            "[GCC 7.5.0]\n",
            "Numpy: 1.19.5\n",
            "Pandas: 1.1.5\n",
            "sklearn: 0.22.2.post1\n"
          ],
          "name": "stdout"
        }
      ]
    },
    {
      "cell_type": "markdown",
      "metadata": {
        "id": "MV38ZjDi96GT"
      },
      "source": [
        "#Importing Modules and renaming them\n",
        "We import the modules but to write numpy or pandas always to use the functionality makes it a lengthy and cumbersome process. Python lets us change the name of modules by using \"as\" while importing the libraries.\n"
      ]
    },
    {
      "cell_type": "code",
      "metadata": {
        "id": "5oOF4y39-YUV"
      },
      "source": [
        "import numpy as np\n",
        "import pandas as pd"
      ],
      "execution_count": null,
      "outputs": []
    },
    {
      "cell_type": "markdown",
      "metadata": {
        "id": "2Cp8EnM--fOx"
      },
      "source": [
        "#Importing the Dataset\n",
        "---\n",
        "There are many ways to import a Dataset. One of them is to download the dataset on to your system and then use it. But the dataset might have very big size and this could take more space on the hard drive you are using.\n",
        "Another way is directly using the dataset from the website that is providing the dataset. The only downside of this process is that it requires a stable internet connection. Uploading the dataset to Google drive is also a good option but has a similar downside as the previous method.\n",
        "<br>\n",
        "Here, we use the dataset directly from the website."
      ]
    },
    {
      "cell_type": "code",
      "metadata": {
        "colab": {
          "base_uri": "https://localhost:8080/"
        },
        "id": "InyZ0YQV4Emw",
        "outputId": "6aea7e04-8d11-4d6c-e777-b17d8e520f2e"
      },
      "source": [
        "from google.colab import drive\n",
        "drive.mount(\"/content/gdrive\")"
      ],
      "execution_count": null,
      "outputs": [
        {
          "output_type": "stream",
          "text": [
            "Mounted at /content/gdrive\n"
          ],
          "name": "stdout"
        }
      ]
    },
    {
      "cell_type": "code",
      "metadata": {
        "id": "l7CXVs30-ep9"
      },
      "source": [
        "url = 'http://archive.ics.uci.edu/ml/machine-learning-databases/molecular-biology/promoter-gene-sequences/promoters.data'\n",
        "names = ['Class', 'id', 'Sequence']\n",
        "data = pd.read_csv(\"/content/gdrive/MyDrive/dataset/promoters.data\", names = names)\n",
        " "
      ],
      "execution_count": null,
      "outputs": []
    },
    {
      "cell_type": "code",
      "metadata": {
        "colab": {
          "base_uri": "https://localhost:8080/"
        },
        "id": "Q_oWtC1MjNxP",
        "outputId": "2cda633e-c70d-470f-a30f-04af783ce26d"
      },
      "source": [
        "print(data.iloc[:5])"
      ],
      "execution_count": null,
      "outputs": [
        {
          "output_type": "stream",
          "text": [
            "  Class         id                                           Sequence\n",
            "0     +        S10  \\t\\ttactagcaatacgcttgcgttcggtggttaagtatgtataat...\n",
            "1     +       AMPC  \\t\\ttgctatcctgacagttgtcacgctgattggtgtcgttacaat...\n",
            "2     +       AROH  \\t\\tgtactagagaactagtgcattagcttatttttttgttatcat...\n",
            "3     +      DEOP2  \\taattgtgatgtgtatcgaagtgtgttgcggagtagatgttagaa...\n",
            "4     +  LEU1_TRNA  \\ttcgataattaactattgacgaaaagctgaaaaccactagaatgc...\n"
          ],
          "name": "stdout"
        }
      ]
    },
    {
      "cell_type": "code",
      "metadata": {
        "colab": {
          "base_uri": "https://localhost:8080/"
        },
        "id": "-PG9j3ZjjQvF",
        "outputId": "491ef3f1-d897-42fa-a63c-c734a8947477"
      },
      "source": [
        "classes = data.loc[:, 'Class']\n",
        "print(classes[:5])"
      ],
      "execution_count": null,
      "outputs": [
        {
          "output_type": "stream",
          "text": [
            "0    +\n",
            "1    +\n",
            "2    +\n",
            "3    +\n",
            "4    +\n",
            "Name: Class, dtype: object\n"
          ],
          "name": "stdout"
        }
      ]
    },
    {
      "cell_type": "code",
      "metadata": {
        "colab": {
          "base_uri": "https://localhost:8080/"
        },
        "id": "qdpZZPgPj5lP",
        "outputId": "47604773-635d-49a0-8825-69ad3beaeb99"
      },
      "source": [
        "data.shape"
      ],
      "execution_count": null,
      "outputs": [
        {
          "output_type": "execute_result",
          "data": {
            "text/plain": [
              "(106, 3)"
            ]
          },
          "metadata": {
            "tags": []
          },
          "execution_count": 7
        }
      ]
    },
    {
      "cell_type": "code",
      "metadata": {
        "colab": {
          "base_uri": "https://localhost:8080/"
        },
        "id": "yFnrytDrkBvw",
        "outputId": "0f78403c-8a38-48f9-8223-493d1f8f8e80"
      },
      "source": [
        "sequences = list(data.loc[:, 'Sequence'])\n",
        "dataset = {}\n",
        "\n",
        "for i, seq in enumerate(sequences):\n",
        "  nucleotides = list(seq)\n",
        "  nucleotides = [x for x in nucleotides if x!= '\\t']\n",
        "\n",
        "\n",
        "  nucleotides.append(classes[i])\n",
        "\n",
        "  dataset[i] = nucleotides\n",
        "\n",
        "print(dataset[0])"
      ],
      "execution_count": null,
      "outputs": [
        {
          "output_type": "stream",
          "text": [
            "['t', 'a', 'c', 't', 'a', 'g', 'c', 'a', 'a', 't', 'a', 'c', 'g', 'c', 't', 't', 'g', 'c', 'g', 't', 't', 'c', 'g', 'g', 't', 'g', 'g', 't', 't', 'a', 'a', 'g', 't', 'a', 't', 'g', 't', 'a', 't', 'a', 'a', 't', 'g', 'c', 'g', 'c', 'g', 'g', 'g', 'c', 't', 't', 'g', 't', 'c', 'g', 't', '+']\n"
          ],
          "name": "stdout"
        }
      ]
    },
    {
      "cell_type": "code",
      "metadata": {
        "colab": {
          "base_uri": "https://localhost:8080/"
        },
        "id": "F2lm2tvPlSUx",
        "outputId": "ddda4910-1d4c-458b-8091-ddcf7d953211"
      },
      "source": [
        "dframe = pd.DataFrame(dataset)\n",
        "print(dframe)"
      ],
      "execution_count": null,
      "outputs": [
        {
          "output_type": "stream",
          "text": [
            "   0   1   2   3   4   5   6   7   8    ... 97  98  99  100 101 102 103 104 105\n",
            "0    t   t   g   a   t   a   c   t   c  ...   c   t   a   g   c   g   c   c   t\n",
            "1    a   g   t   a   c   g   a   t   g  ...   g   a   g   a   c   t   g   t   a\n",
            "2    c   c   a   t   g   g   g   t   a  ...   c   t   a   g   t   a   c   c   a\n",
            "3    t   t   c   t   a   g   g   c   c  ...   t   g   g   a   c   t   g   g   c\n",
            "4    a   a   t   g   t   g   g   t   t  ...   a   a   g   g   a   t   a   t   a\n",
            "5    g   t   a   t   a   c   g   a   t  ...   g   c   g   c   a   c   c   c   t\n",
            "6    c   c   g   g   a   a   g   c   a  ...   g   c   t   a   t   t   t   c   t\n",
            "7    a   c   a   a   t   a   t   a   a  ...   a   g   g   t   g   c   a   t   a\n",
            "8    a   t   g   t   t   g   g   a   t  ...   c   a   t   g   g   a   c   c   a\n",
            "9    t   g   a   g   a   g   g   a   a  ...   t   a   a   t   c   a   g   a   t\n",
            "10   a   a   a   t   a   a   a   a   t  ...   t   c   c   c   c   c   a   a   a\n",
            "11   c   c   c   g   c   g   g   c   a  ...   t   g   t   a   t   a   t   t   a\n",
            "12   g   a   t   t   t   g   g   a   c  ...   c   a   c   g   c   a   g   g   a\n",
            "13   c   g   a   a   a   a   a   c   t  ...   t   g   c   c   t   g   a   g   t\n",
            "14   t   t   g   t   t   t   t   t   g  ...   t   t   a   c   a   a   g   c   a\n",
            "15   t   t   t   c   t   g   t   t   c  ...   g   c   a   t   a   t   a   c   a\n",
            "16   g   g   g   g   g   g   t   g   g  ...   t   a   g   c   a   t   t   t   g\n",
            "17   c   t   c   a   a   a   a   a   a  ...   t   a   a   g   c   a   g   c   g\n",
            "18   g   c   a   a   c   a   a   t   c  ...   g   t   a   a   g   a   c   t   a\n",
            "19   t   a   t   g   g   a   g   a   a  ...   a   c   g   c   g   c   c   a   g\n",
            "20   t   c   t   t   a   g   c   c   g  ...   t   a   a   a   g   c   t   a   g\n",
            "21   c   g   a   g   a   a   c   t   g  ...   t   g   g   a   t   g   g   a   c\n",
            "22   g   c   g   t   a   g   a   g   a  ...   t   a   g   c   c   a   a   c   t\n",
            "23   g   t   c   g   a   g   t   t   c  ...   t   c   a   t   t   c   g   g   c\n",
            "24   t   g   t   t   g   t   c   a   g  ...   c   c   a   t   t   a   t   g   t\n",
            "25   g   a   t   t   c   t   t   t   t  ...   c   g   g   g   g   g   g   g   a\n",
            "26   g   t   a   g   t   g   c   g   c  ...   a   c   a   c   a   a   c   t   a\n",
            "27   t   t   t   c   g   c   c   a   c  ...   t   t   t   a   g   t   t   c   t\n",
            "28   t   g   t   g   a   c   t   g   g  ...   g   t   g   t   g   t   t   t   g\n",
            "29   a   g   t   g   a   g   g   c   t  ...   c   t   a   a   g   c   c   t   g\n",
            "30   a   t   t   a   a   t   a   a   t  ...   g   g   g   a   g   a   c   g   c\n",
            "31   g   g   t   g   a   a   t   t   c  ...   g   a   g   a   t   a   g   a   a\n",
            "32   t   t   t   t   c   t   g   a   t  ...   t   c   c   t   t   t   t   g   c\n",
            "33   a   c   t   a   c   a   a   c   g  ...   g   t   t   g   t   c   t   g   t\n",
            "34   t   g   g   g   a   a   c   a   t  ...   t   c   a   c   t   t   a   g   c\n",
            "35   g   t   t   a   c   a   g   g   g  ...   t   t   g   t   t   c   c   g   a\n",
            "36   t   t   t   t   t   g   c   t   t  ...   t   g   a   t   t   g   t   t   t\n",
            "37   a   a   a   g   a   a   a   a   a  ...   t   g   c   t   g   t   g   t   t\n",
            "38   t   c   t   t   g   a   t   t   a  ...   g   t   g   c   c   g   g   t   a\n",
            "39   a   a   c   t   a   a   a   a   a  ...   c   a   t   t   t   g   a   t   g\n",
            "40   a   a   a   a   a   c   g   a   t  ...   g   t   c   t   g   a   t   t   c\n",
            "41   t   t   t   g   t   t   t   t   c  ...   c   t   t   g   a   t   t   t   c\n",
            "42   g   c   g   a   g   a   c   t   g  ...   a   a   c   t   a   g   g   g   a\n",
            "43   c   t   c   a   c   g   a   g   c  ...   a   c   t   a   a   g   t   c   a\n",
            "44   g   a   t   t   g   a   g   c   a  ...   t   t   g   g   g   a   c   t   t\n",
            "45   c   a   a   a   c   g   c   t   a  ...   g   g   c   a   g   c   a   g   c\n",
            "46   g   c   a   c   c   t   c   t   t  ...   t   t   a   c   a   g   c   a   a\n",
            "47   g   g   c   t   t   c   c   c   g  ...   t   g   t   g   g   t   c   a   a\n",
            "48   g   c   c   a   c   c   a   a   a  ...   a   a   g   t   g   t   a   a   t\n",
            "49   c   a   a   a   c   g   t   a   a  ...   a   a   g   g   a   c   a   g   c\n",
            "50   t   t   c   c   g   t   c   c   a  ...   t   c   a   c   a   a   g   g   a\n",
            "51   t   c   c   a   t   t   a   a   t  ...   c   a   g   c   c   a   g   a   a\n",
            "52   g   g   c   a   g   t   t   g   g  ...   g   t   t   c   t   c   c   g   g\n",
            "53   t   c   g   a   g   a   g   a   g  ...   c   t   a   t   a   a   t   g   a\n",
            "54   c   c   g   c   t   g   a   a   t  ...   t   a   t   a   t   t   t   a   a\n",
            "55   g   a   c   t   a   g   a   c   t  ...   t   t   g   c   a   t   c   a   c\n",
            "56   t   a   g   c   g   t   t   a   t  ...   t   t   a   g   t   g   c   c   t\n",
            "57   +   +   +   +   +   +   +   +   +  ...   -   -   -   -   -   -   -   -   -\n",
            "\n",
            "[58 rows x 106 columns]\n"
          ],
          "name": "stdout"
        }
      ]
    },
    {
      "cell_type": "code",
      "metadata": {
        "colab": {
          "base_uri": "https://localhost:8080/"
        },
        "id": "TDNKRURdlyQF",
        "outputId": "52f98fbf-765d-43df-e774-f4f612f241f2"
      },
      "source": [
        "df = dframe.transpose()\n",
        "print(df.iloc[:5])"
      ],
      "execution_count": null,
      "outputs": [
        {
          "output_type": "stream",
          "text": [
            "  0  1  2  3  4  5  6  7  8  9  10 11 12  ... 45 46 47 48 49 50 51 52 53 54 55 56 57\n",
            "0  t  a  c  t  a  g  c  a  a  t  a  c  g  ...  c  g  g  g  c  t  t  g  t  c  g  t  +\n",
            "1  t  g  c  t  a  t  c  c  t  g  a  c  a  ...  a  c  g  c  a  t  c  g  c  c  a  a  +\n",
            "2  g  t  a  c  t  a  g  a  g  a  a  c  t  ...  a  a  c  c  a  c  c  c  g  g  c  g  +\n",
            "3  a  a  t  t  g  t  g  a  t  g  t  g  t  ...  a  c  t  a  a  c  a  a  a  c  t  c  +\n",
            "4  t  c  g  a  t  a  a  t  t  a  a  c  t  ...  c  c  t  c  c  g  t  g  g  t  a  g  +\n",
            "\n",
            "[5 rows x 58 columns]\n"
          ],
          "name": "stdout"
        }
      ]
    },
    {
      "cell_type": "code",
      "metadata": {
        "colab": {
          "base_uri": "https://localhost:8080/"
        },
        "id": "lAOwCV5dmmC5",
        "outputId": "c724c5a5-9459-45ad-8178-81105392ff95"
      },
      "source": [
        "df.rename(columns = {57:'Class'}, inplace = True)\n",
        "print(df.iloc[:5])"
      ],
      "execution_count": null,
      "outputs": [
        {
          "output_type": "stream",
          "text": [
            "   0  1  2  3  4  5  6  7  8  9 10 11  ... 46 47 48 49 50 51 52 53 54 55 56 Class\n",
            "0  t  a  c  t  a  g  c  a  a  t  a  c  ...  g  g  g  c  t  t  g  t  c  g  t     +\n",
            "1  t  g  c  t  a  t  c  c  t  g  a  c  ...  c  g  c  a  t  c  g  c  c  a  a     +\n",
            "2  g  t  a  c  t  a  g  a  g  a  a  c  ...  a  c  c  a  c  c  c  g  g  c  g     +\n",
            "3  a  a  t  t  g  t  g  a  t  g  t  g  ...  c  t  a  a  c  a  a  a  c  t  c     +\n",
            "4  t  c  g  a  t  a  a  t  t  a  a  c  ...  c  t  c  c  g  t  g  g  t  a  g     +\n",
            "\n",
            "[5 rows x 58 columns]\n"
          ],
          "name": "stdout"
        }
      ]
    },
    {
      "cell_type": "code",
      "metadata": {
        "colab": {
          "base_uri": "https://localhost:8080/",
          "height": 193
        },
        "id": "NvSPlmmom3KF",
        "outputId": "e09b78da-94df-4f12-a3f6-6e867f23671a"
      },
      "source": [
        "df.describe()"
      ],
      "execution_count": null,
      "outputs": [
        {
          "output_type": "execute_result",
          "data": {
            "text/html": [
              "<div>\n",
              "<style scoped>\n",
              "    .dataframe tbody tr th:only-of-type {\n",
              "        vertical-align: middle;\n",
              "    }\n",
              "\n",
              "    .dataframe tbody tr th {\n",
              "        vertical-align: top;\n",
              "    }\n",
              "\n",
              "    .dataframe thead th {\n",
              "        text-align: right;\n",
              "    }\n",
              "</style>\n",
              "<table border=\"1\" class=\"dataframe\">\n",
              "  <thead>\n",
              "    <tr style=\"text-align: right;\">\n",
              "      <th></th>\n",
              "      <th>0</th>\n",
              "      <th>1</th>\n",
              "      <th>2</th>\n",
              "      <th>3</th>\n",
              "      <th>4</th>\n",
              "      <th>5</th>\n",
              "      <th>6</th>\n",
              "      <th>7</th>\n",
              "      <th>8</th>\n",
              "      <th>9</th>\n",
              "      <th>10</th>\n",
              "      <th>11</th>\n",
              "      <th>12</th>\n",
              "      <th>13</th>\n",
              "      <th>14</th>\n",
              "      <th>15</th>\n",
              "      <th>16</th>\n",
              "      <th>17</th>\n",
              "      <th>18</th>\n",
              "      <th>19</th>\n",
              "      <th>20</th>\n",
              "      <th>21</th>\n",
              "      <th>22</th>\n",
              "      <th>23</th>\n",
              "      <th>24</th>\n",
              "      <th>25</th>\n",
              "      <th>26</th>\n",
              "      <th>27</th>\n",
              "      <th>28</th>\n",
              "      <th>29</th>\n",
              "      <th>30</th>\n",
              "      <th>31</th>\n",
              "      <th>32</th>\n",
              "      <th>33</th>\n",
              "      <th>34</th>\n",
              "      <th>35</th>\n",
              "      <th>36</th>\n",
              "      <th>37</th>\n",
              "      <th>38</th>\n",
              "      <th>39</th>\n",
              "      <th>40</th>\n",
              "      <th>41</th>\n",
              "      <th>42</th>\n",
              "      <th>43</th>\n",
              "      <th>44</th>\n",
              "      <th>45</th>\n",
              "      <th>46</th>\n",
              "      <th>47</th>\n",
              "      <th>48</th>\n",
              "      <th>49</th>\n",
              "      <th>50</th>\n",
              "      <th>51</th>\n",
              "      <th>52</th>\n",
              "      <th>53</th>\n",
              "      <th>54</th>\n",
              "      <th>55</th>\n",
              "      <th>56</th>\n",
              "      <th>Class</th>\n",
              "    </tr>\n",
              "  </thead>\n",
              "  <tbody>\n",
              "    <tr>\n",
              "      <th>count</th>\n",
              "      <td>106</td>\n",
              "      <td>106</td>\n",
              "      <td>106</td>\n",
              "      <td>106</td>\n",
              "      <td>106</td>\n",
              "      <td>106</td>\n",
              "      <td>106</td>\n",
              "      <td>106</td>\n",
              "      <td>106</td>\n",
              "      <td>106</td>\n",
              "      <td>106</td>\n",
              "      <td>106</td>\n",
              "      <td>106</td>\n",
              "      <td>106</td>\n",
              "      <td>106</td>\n",
              "      <td>106</td>\n",
              "      <td>106</td>\n",
              "      <td>106</td>\n",
              "      <td>106</td>\n",
              "      <td>106</td>\n",
              "      <td>106</td>\n",
              "      <td>106</td>\n",
              "      <td>106</td>\n",
              "      <td>106</td>\n",
              "      <td>106</td>\n",
              "      <td>106</td>\n",
              "      <td>106</td>\n",
              "      <td>106</td>\n",
              "      <td>106</td>\n",
              "      <td>106</td>\n",
              "      <td>106</td>\n",
              "      <td>106</td>\n",
              "      <td>106</td>\n",
              "      <td>106</td>\n",
              "      <td>106</td>\n",
              "      <td>106</td>\n",
              "      <td>106</td>\n",
              "      <td>106</td>\n",
              "      <td>106</td>\n",
              "      <td>106</td>\n",
              "      <td>106</td>\n",
              "      <td>106</td>\n",
              "      <td>106</td>\n",
              "      <td>106</td>\n",
              "      <td>106</td>\n",
              "      <td>106</td>\n",
              "      <td>106</td>\n",
              "      <td>106</td>\n",
              "      <td>106</td>\n",
              "      <td>106</td>\n",
              "      <td>106</td>\n",
              "      <td>106</td>\n",
              "      <td>106</td>\n",
              "      <td>106</td>\n",
              "      <td>106</td>\n",
              "      <td>106</td>\n",
              "      <td>106</td>\n",
              "      <td>106</td>\n",
              "    </tr>\n",
              "    <tr>\n",
              "      <th>unique</th>\n",
              "      <td>4</td>\n",
              "      <td>4</td>\n",
              "      <td>4</td>\n",
              "      <td>4</td>\n",
              "      <td>4</td>\n",
              "      <td>4</td>\n",
              "      <td>4</td>\n",
              "      <td>4</td>\n",
              "      <td>4</td>\n",
              "      <td>4</td>\n",
              "      <td>4</td>\n",
              "      <td>4</td>\n",
              "      <td>4</td>\n",
              "      <td>4</td>\n",
              "      <td>4</td>\n",
              "      <td>4</td>\n",
              "      <td>4</td>\n",
              "      <td>4</td>\n",
              "      <td>4</td>\n",
              "      <td>4</td>\n",
              "      <td>4</td>\n",
              "      <td>4</td>\n",
              "      <td>4</td>\n",
              "      <td>4</td>\n",
              "      <td>4</td>\n",
              "      <td>4</td>\n",
              "      <td>4</td>\n",
              "      <td>4</td>\n",
              "      <td>4</td>\n",
              "      <td>4</td>\n",
              "      <td>4</td>\n",
              "      <td>4</td>\n",
              "      <td>4</td>\n",
              "      <td>4</td>\n",
              "      <td>4</td>\n",
              "      <td>4</td>\n",
              "      <td>4</td>\n",
              "      <td>4</td>\n",
              "      <td>4</td>\n",
              "      <td>4</td>\n",
              "      <td>4</td>\n",
              "      <td>4</td>\n",
              "      <td>4</td>\n",
              "      <td>4</td>\n",
              "      <td>4</td>\n",
              "      <td>4</td>\n",
              "      <td>4</td>\n",
              "      <td>4</td>\n",
              "      <td>4</td>\n",
              "      <td>4</td>\n",
              "      <td>4</td>\n",
              "      <td>4</td>\n",
              "      <td>4</td>\n",
              "      <td>4</td>\n",
              "      <td>4</td>\n",
              "      <td>4</td>\n",
              "      <td>4</td>\n",
              "      <td>2</td>\n",
              "    </tr>\n",
              "    <tr>\n",
              "      <th>top</th>\n",
              "      <td>t</td>\n",
              "      <td>a</td>\n",
              "      <td>a</td>\n",
              "      <td>c</td>\n",
              "      <td>a</td>\n",
              "      <td>a</td>\n",
              "      <td>a</td>\n",
              "      <td>a</td>\n",
              "      <td>a</td>\n",
              "      <td>a</td>\n",
              "      <td>a</td>\n",
              "      <td>c</td>\n",
              "      <td>t</td>\n",
              "      <td>c</td>\n",
              "      <td>t</td>\n",
              "      <td>t</td>\n",
              "      <td>g</td>\n",
              "      <td>a</td>\n",
              "      <td>c</td>\n",
              "      <td>a</td>\n",
              "      <td>t</td>\n",
              "      <td>a</td>\n",
              "      <td>g</td>\n",
              "      <td>t</td>\n",
              "      <td>t</td>\n",
              "      <td>g</td>\n",
              "      <td>g</td>\n",
              "      <td>t</td>\n",
              "      <td>t</td>\n",
              "      <td>a</td>\n",
              "      <td>a</td>\n",
              "      <td>a</td>\n",
              "      <td>t</td>\n",
              "      <td>t</td>\n",
              "      <td>c</td>\n",
              "      <td>t</td>\n",
              "      <td>t</td>\n",
              "      <td>t</td>\n",
              "      <td>t</td>\n",
              "      <td>a</td>\n",
              "      <td>a</td>\n",
              "      <td>t</td>\n",
              "      <td>t</td>\n",
              "      <td>t</td>\n",
              "      <td>g</td>\n",
              "      <td>c</td>\n",
              "      <td>c</td>\n",
              "      <td>c</td>\n",
              "      <td>c</td>\n",
              "      <td>c</td>\n",
              "      <td>c</td>\n",
              "      <td>t</td>\n",
              "      <td>t</td>\n",
              "      <td>c</td>\n",
              "      <td>c</td>\n",
              "      <td>c</td>\n",
              "      <td>t</td>\n",
              "      <td>+</td>\n",
              "    </tr>\n",
              "    <tr>\n",
              "      <th>freq</th>\n",
              "      <td>38</td>\n",
              "      <td>34</td>\n",
              "      <td>30</td>\n",
              "      <td>30</td>\n",
              "      <td>36</td>\n",
              "      <td>42</td>\n",
              "      <td>38</td>\n",
              "      <td>34</td>\n",
              "      <td>33</td>\n",
              "      <td>36</td>\n",
              "      <td>38</td>\n",
              "      <td>31</td>\n",
              "      <td>34</td>\n",
              "      <td>38</td>\n",
              "      <td>54</td>\n",
              "      <td>54</td>\n",
              "      <td>53</td>\n",
              "      <td>40</td>\n",
              "      <td>44</td>\n",
              "      <td>31</td>\n",
              "      <td>34</td>\n",
              "      <td>31</td>\n",
              "      <td>30</td>\n",
              "      <td>32</td>\n",
              "      <td>32</td>\n",
              "      <td>34</td>\n",
              "      <td>29</td>\n",
              "      <td>32</td>\n",
              "      <td>35</td>\n",
              "      <td>35</td>\n",
              "      <td>37</td>\n",
              "      <td>31</td>\n",
              "      <td>41</td>\n",
              "      <td>39</td>\n",
              "      <td>27</td>\n",
              "      <td>34</td>\n",
              "      <td>43</td>\n",
              "      <td>32</td>\n",
              "      <td>35</td>\n",
              "      <td>45</td>\n",
              "      <td>41</td>\n",
              "      <td>33</td>\n",
              "      <td>42</td>\n",
              "      <td>36</td>\n",
              "      <td>34</td>\n",
              "      <td>35</td>\n",
              "      <td>31</td>\n",
              "      <td>32</td>\n",
              "      <td>36</td>\n",
              "      <td>42</td>\n",
              "      <td>31</td>\n",
              "      <td>33</td>\n",
              "      <td>35</td>\n",
              "      <td>32</td>\n",
              "      <td>29</td>\n",
              "      <td>29</td>\n",
              "      <td>34</td>\n",
              "      <td>53</td>\n",
              "    </tr>\n",
              "  </tbody>\n",
              "</table>\n",
              "</div>"
            ],
            "text/plain": [
              "          0    1    2    3    4    5    6  ...   51   52   53   54   55   56 Class\n",
              "count   106  106  106  106  106  106  106  ...  106  106  106  106  106  106   106\n",
              "unique    4    4    4    4    4    4    4  ...    4    4    4    4    4    4     2\n",
              "top       t    a    a    c    a    a    a  ...    t    t    c    c    c    t     +\n",
              "freq     38   34   30   30   36   42   38  ...   33   35   32   29   29   34    53\n",
              "\n",
              "[4 rows x 58 columns]"
            ]
          },
          "metadata": {
            "tags": []
          },
          "execution_count": 12
        }
      ]
    },
    {
      "cell_type": "code",
      "metadata": {
        "colab": {
          "base_uri": "https://localhost:8080/"
        },
        "id": "l9ddKL2Cm5qm",
        "outputId": "15af7937-3f05-4a3a-a925-46dd8617b4d7"
      },
      "source": [
        "series = []\n",
        "\n",
        "for name in df.columns:\n",
        "  series.append(df[name].value_counts())\n",
        "\n",
        "info = pd.DataFrame(series)\n",
        "details = info.transpose()\n",
        "print(details)"
      ],
      "execution_count": null,
      "outputs": [
        {
          "output_type": "stream",
          "text": [
            "      0     1     2     3     4     5  ...    52    53    54    55    56  Class\n",
            "t  38.0  26.0  27.0  26.0  22.0  24.0  ...  35.0  30.0  23.0  29.0  34.0    NaN\n",
            "c  27.0  22.0  21.0  30.0  19.0  18.0  ...  21.0  32.0  29.0  29.0  17.0    NaN\n",
            "a  26.0  34.0  30.0  22.0  36.0  42.0  ...  25.0  22.0  26.0  24.0  27.0    NaN\n",
            "g  15.0  24.0  28.0  28.0  29.0  22.0  ...  25.0  22.0  28.0  24.0  28.0    NaN\n",
            "+   NaN   NaN   NaN   NaN   NaN   NaN  ...   NaN   NaN   NaN   NaN   NaN   53.0\n",
            "-   NaN   NaN   NaN   NaN   NaN   NaN  ...   NaN   NaN   NaN   NaN   NaN   53.0\n",
            "\n",
            "[6 rows x 58 columns]\n"
          ],
          "name": "stdout"
        }
      ]
    },
    {
      "cell_type": "code",
      "metadata": {
        "id": "pI6-tKpEnhRj",
        "colab": {
          "base_uri": "https://localhost:8080/",
          "height": 253
        },
        "outputId": "c9d7553b-a0ee-46db-e389-db439f5d7ec2"
      },
      "source": [
        "numerical_df = pd.get_dummies(df)\n",
        "numerical_df.iloc[:5]"
      ],
      "execution_count": null,
      "outputs": [
        {
          "output_type": "execute_result",
          "data": {
            "text/html": [
              "<div>\n",
              "<style scoped>\n",
              "    .dataframe tbody tr th:only-of-type {\n",
              "        vertical-align: middle;\n",
              "    }\n",
              "\n",
              "    .dataframe tbody tr th {\n",
              "        vertical-align: top;\n",
              "    }\n",
              "\n",
              "    .dataframe thead th {\n",
              "        text-align: right;\n",
              "    }\n",
              "</style>\n",
              "<table border=\"1\" class=\"dataframe\">\n",
              "  <thead>\n",
              "    <tr style=\"text-align: right;\">\n",
              "      <th></th>\n",
              "      <th>0_a</th>\n",
              "      <th>0_c</th>\n",
              "      <th>0_g</th>\n",
              "      <th>0_t</th>\n",
              "      <th>1_a</th>\n",
              "      <th>1_c</th>\n",
              "      <th>1_g</th>\n",
              "      <th>1_t</th>\n",
              "      <th>2_a</th>\n",
              "      <th>2_c</th>\n",
              "      <th>2_g</th>\n",
              "      <th>2_t</th>\n",
              "      <th>3_a</th>\n",
              "      <th>3_c</th>\n",
              "      <th>3_g</th>\n",
              "      <th>3_t</th>\n",
              "      <th>4_a</th>\n",
              "      <th>4_c</th>\n",
              "      <th>4_g</th>\n",
              "      <th>4_t</th>\n",
              "      <th>5_a</th>\n",
              "      <th>5_c</th>\n",
              "      <th>5_g</th>\n",
              "      <th>5_t</th>\n",
              "      <th>6_a</th>\n",
              "      <th>6_c</th>\n",
              "      <th>6_g</th>\n",
              "      <th>6_t</th>\n",
              "      <th>7_a</th>\n",
              "      <th>7_c</th>\n",
              "      <th>7_g</th>\n",
              "      <th>7_t</th>\n",
              "      <th>8_a</th>\n",
              "      <th>8_c</th>\n",
              "      <th>8_g</th>\n",
              "      <th>8_t</th>\n",
              "      <th>9_a</th>\n",
              "      <th>9_c</th>\n",
              "      <th>9_g</th>\n",
              "      <th>9_t</th>\n",
              "      <th>...</th>\n",
              "      <th>47_g</th>\n",
              "      <th>47_t</th>\n",
              "      <th>48_a</th>\n",
              "      <th>48_c</th>\n",
              "      <th>48_g</th>\n",
              "      <th>48_t</th>\n",
              "      <th>49_a</th>\n",
              "      <th>49_c</th>\n",
              "      <th>49_g</th>\n",
              "      <th>49_t</th>\n",
              "      <th>50_a</th>\n",
              "      <th>50_c</th>\n",
              "      <th>50_g</th>\n",
              "      <th>50_t</th>\n",
              "      <th>51_a</th>\n",
              "      <th>51_c</th>\n",
              "      <th>51_g</th>\n",
              "      <th>51_t</th>\n",
              "      <th>52_a</th>\n",
              "      <th>52_c</th>\n",
              "      <th>52_g</th>\n",
              "      <th>52_t</th>\n",
              "      <th>53_a</th>\n",
              "      <th>53_c</th>\n",
              "      <th>53_g</th>\n",
              "      <th>53_t</th>\n",
              "      <th>54_a</th>\n",
              "      <th>54_c</th>\n",
              "      <th>54_g</th>\n",
              "      <th>54_t</th>\n",
              "      <th>55_a</th>\n",
              "      <th>55_c</th>\n",
              "      <th>55_g</th>\n",
              "      <th>55_t</th>\n",
              "      <th>56_a</th>\n",
              "      <th>56_c</th>\n",
              "      <th>56_g</th>\n",
              "      <th>56_t</th>\n",
              "      <th>Class_+</th>\n",
              "      <th>Class_-</th>\n",
              "    </tr>\n",
              "  </thead>\n",
              "  <tbody>\n",
              "    <tr>\n",
              "      <th>0</th>\n",
              "      <td>0</td>\n",
              "      <td>0</td>\n",
              "      <td>0</td>\n",
              "      <td>1</td>\n",
              "      <td>1</td>\n",
              "      <td>0</td>\n",
              "      <td>0</td>\n",
              "      <td>0</td>\n",
              "      <td>0</td>\n",
              "      <td>1</td>\n",
              "      <td>0</td>\n",
              "      <td>0</td>\n",
              "      <td>0</td>\n",
              "      <td>0</td>\n",
              "      <td>0</td>\n",
              "      <td>1</td>\n",
              "      <td>1</td>\n",
              "      <td>0</td>\n",
              "      <td>0</td>\n",
              "      <td>0</td>\n",
              "      <td>0</td>\n",
              "      <td>0</td>\n",
              "      <td>1</td>\n",
              "      <td>0</td>\n",
              "      <td>0</td>\n",
              "      <td>1</td>\n",
              "      <td>0</td>\n",
              "      <td>0</td>\n",
              "      <td>1</td>\n",
              "      <td>0</td>\n",
              "      <td>0</td>\n",
              "      <td>0</td>\n",
              "      <td>1</td>\n",
              "      <td>0</td>\n",
              "      <td>0</td>\n",
              "      <td>0</td>\n",
              "      <td>0</td>\n",
              "      <td>0</td>\n",
              "      <td>0</td>\n",
              "      <td>1</td>\n",
              "      <td>...</td>\n",
              "      <td>1</td>\n",
              "      <td>0</td>\n",
              "      <td>0</td>\n",
              "      <td>0</td>\n",
              "      <td>1</td>\n",
              "      <td>0</td>\n",
              "      <td>0</td>\n",
              "      <td>1</td>\n",
              "      <td>0</td>\n",
              "      <td>0</td>\n",
              "      <td>0</td>\n",
              "      <td>0</td>\n",
              "      <td>0</td>\n",
              "      <td>1</td>\n",
              "      <td>0</td>\n",
              "      <td>0</td>\n",
              "      <td>0</td>\n",
              "      <td>1</td>\n",
              "      <td>0</td>\n",
              "      <td>0</td>\n",
              "      <td>1</td>\n",
              "      <td>0</td>\n",
              "      <td>0</td>\n",
              "      <td>0</td>\n",
              "      <td>0</td>\n",
              "      <td>1</td>\n",
              "      <td>0</td>\n",
              "      <td>1</td>\n",
              "      <td>0</td>\n",
              "      <td>0</td>\n",
              "      <td>0</td>\n",
              "      <td>0</td>\n",
              "      <td>1</td>\n",
              "      <td>0</td>\n",
              "      <td>0</td>\n",
              "      <td>0</td>\n",
              "      <td>0</td>\n",
              "      <td>1</td>\n",
              "      <td>1</td>\n",
              "      <td>0</td>\n",
              "    </tr>\n",
              "    <tr>\n",
              "      <th>1</th>\n",
              "      <td>0</td>\n",
              "      <td>0</td>\n",
              "      <td>0</td>\n",
              "      <td>1</td>\n",
              "      <td>0</td>\n",
              "      <td>0</td>\n",
              "      <td>1</td>\n",
              "      <td>0</td>\n",
              "      <td>0</td>\n",
              "      <td>1</td>\n",
              "      <td>0</td>\n",
              "      <td>0</td>\n",
              "      <td>0</td>\n",
              "      <td>0</td>\n",
              "      <td>0</td>\n",
              "      <td>1</td>\n",
              "      <td>1</td>\n",
              "      <td>0</td>\n",
              "      <td>0</td>\n",
              "      <td>0</td>\n",
              "      <td>0</td>\n",
              "      <td>0</td>\n",
              "      <td>0</td>\n",
              "      <td>1</td>\n",
              "      <td>0</td>\n",
              "      <td>1</td>\n",
              "      <td>0</td>\n",
              "      <td>0</td>\n",
              "      <td>0</td>\n",
              "      <td>1</td>\n",
              "      <td>0</td>\n",
              "      <td>0</td>\n",
              "      <td>0</td>\n",
              "      <td>0</td>\n",
              "      <td>0</td>\n",
              "      <td>1</td>\n",
              "      <td>0</td>\n",
              "      <td>0</td>\n",
              "      <td>1</td>\n",
              "      <td>0</td>\n",
              "      <td>...</td>\n",
              "      <td>1</td>\n",
              "      <td>0</td>\n",
              "      <td>0</td>\n",
              "      <td>1</td>\n",
              "      <td>0</td>\n",
              "      <td>0</td>\n",
              "      <td>1</td>\n",
              "      <td>0</td>\n",
              "      <td>0</td>\n",
              "      <td>0</td>\n",
              "      <td>0</td>\n",
              "      <td>0</td>\n",
              "      <td>0</td>\n",
              "      <td>1</td>\n",
              "      <td>0</td>\n",
              "      <td>1</td>\n",
              "      <td>0</td>\n",
              "      <td>0</td>\n",
              "      <td>0</td>\n",
              "      <td>0</td>\n",
              "      <td>1</td>\n",
              "      <td>0</td>\n",
              "      <td>0</td>\n",
              "      <td>1</td>\n",
              "      <td>0</td>\n",
              "      <td>0</td>\n",
              "      <td>0</td>\n",
              "      <td>1</td>\n",
              "      <td>0</td>\n",
              "      <td>0</td>\n",
              "      <td>1</td>\n",
              "      <td>0</td>\n",
              "      <td>0</td>\n",
              "      <td>0</td>\n",
              "      <td>1</td>\n",
              "      <td>0</td>\n",
              "      <td>0</td>\n",
              "      <td>0</td>\n",
              "      <td>1</td>\n",
              "      <td>0</td>\n",
              "    </tr>\n",
              "    <tr>\n",
              "      <th>2</th>\n",
              "      <td>0</td>\n",
              "      <td>0</td>\n",
              "      <td>1</td>\n",
              "      <td>0</td>\n",
              "      <td>0</td>\n",
              "      <td>0</td>\n",
              "      <td>0</td>\n",
              "      <td>1</td>\n",
              "      <td>1</td>\n",
              "      <td>0</td>\n",
              "      <td>0</td>\n",
              "      <td>0</td>\n",
              "      <td>0</td>\n",
              "      <td>1</td>\n",
              "      <td>0</td>\n",
              "      <td>0</td>\n",
              "      <td>0</td>\n",
              "      <td>0</td>\n",
              "      <td>0</td>\n",
              "      <td>1</td>\n",
              "      <td>1</td>\n",
              "      <td>0</td>\n",
              "      <td>0</td>\n",
              "      <td>0</td>\n",
              "      <td>0</td>\n",
              "      <td>0</td>\n",
              "      <td>1</td>\n",
              "      <td>0</td>\n",
              "      <td>1</td>\n",
              "      <td>0</td>\n",
              "      <td>0</td>\n",
              "      <td>0</td>\n",
              "      <td>0</td>\n",
              "      <td>0</td>\n",
              "      <td>1</td>\n",
              "      <td>0</td>\n",
              "      <td>1</td>\n",
              "      <td>0</td>\n",
              "      <td>0</td>\n",
              "      <td>0</td>\n",
              "      <td>...</td>\n",
              "      <td>0</td>\n",
              "      <td>0</td>\n",
              "      <td>0</td>\n",
              "      <td>1</td>\n",
              "      <td>0</td>\n",
              "      <td>0</td>\n",
              "      <td>1</td>\n",
              "      <td>0</td>\n",
              "      <td>0</td>\n",
              "      <td>0</td>\n",
              "      <td>0</td>\n",
              "      <td>1</td>\n",
              "      <td>0</td>\n",
              "      <td>0</td>\n",
              "      <td>0</td>\n",
              "      <td>1</td>\n",
              "      <td>0</td>\n",
              "      <td>0</td>\n",
              "      <td>0</td>\n",
              "      <td>1</td>\n",
              "      <td>0</td>\n",
              "      <td>0</td>\n",
              "      <td>0</td>\n",
              "      <td>0</td>\n",
              "      <td>1</td>\n",
              "      <td>0</td>\n",
              "      <td>0</td>\n",
              "      <td>0</td>\n",
              "      <td>1</td>\n",
              "      <td>0</td>\n",
              "      <td>0</td>\n",
              "      <td>1</td>\n",
              "      <td>0</td>\n",
              "      <td>0</td>\n",
              "      <td>0</td>\n",
              "      <td>0</td>\n",
              "      <td>1</td>\n",
              "      <td>0</td>\n",
              "      <td>1</td>\n",
              "      <td>0</td>\n",
              "    </tr>\n",
              "    <tr>\n",
              "      <th>3</th>\n",
              "      <td>1</td>\n",
              "      <td>0</td>\n",
              "      <td>0</td>\n",
              "      <td>0</td>\n",
              "      <td>1</td>\n",
              "      <td>0</td>\n",
              "      <td>0</td>\n",
              "      <td>0</td>\n",
              "      <td>0</td>\n",
              "      <td>0</td>\n",
              "      <td>0</td>\n",
              "      <td>1</td>\n",
              "      <td>0</td>\n",
              "      <td>0</td>\n",
              "      <td>0</td>\n",
              "      <td>1</td>\n",
              "      <td>0</td>\n",
              "      <td>0</td>\n",
              "      <td>1</td>\n",
              "      <td>0</td>\n",
              "      <td>0</td>\n",
              "      <td>0</td>\n",
              "      <td>0</td>\n",
              "      <td>1</td>\n",
              "      <td>0</td>\n",
              "      <td>0</td>\n",
              "      <td>1</td>\n",
              "      <td>0</td>\n",
              "      <td>1</td>\n",
              "      <td>0</td>\n",
              "      <td>0</td>\n",
              "      <td>0</td>\n",
              "      <td>0</td>\n",
              "      <td>0</td>\n",
              "      <td>0</td>\n",
              "      <td>1</td>\n",
              "      <td>0</td>\n",
              "      <td>0</td>\n",
              "      <td>1</td>\n",
              "      <td>0</td>\n",
              "      <td>...</td>\n",
              "      <td>0</td>\n",
              "      <td>1</td>\n",
              "      <td>1</td>\n",
              "      <td>0</td>\n",
              "      <td>0</td>\n",
              "      <td>0</td>\n",
              "      <td>1</td>\n",
              "      <td>0</td>\n",
              "      <td>0</td>\n",
              "      <td>0</td>\n",
              "      <td>0</td>\n",
              "      <td>1</td>\n",
              "      <td>0</td>\n",
              "      <td>0</td>\n",
              "      <td>1</td>\n",
              "      <td>0</td>\n",
              "      <td>0</td>\n",
              "      <td>0</td>\n",
              "      <td>1</td>\n",
              "      <td>0</td>\n",
              "      <td>0</td>\n",
              "      <td>0</td>\n",
              "      <td>1</td>\n",
              "      <td>0</td>\n",
              "      <td>0</td>\n",
              "      <td>0</td>\n",
              "      <td>0</td>\n",
              "      <td>1</td>\n",
              "      <td>0</td>\n",
              "      <td>0</td>\n",
              "      <td>0</td>\n",
              "      <td>0</td>\n",
              "      <td>0</td>\n",
              "      <td>1</td>\n",
              "      <td>0</td>\n",
              "      <td>1</td>\n",
              "      <td>0</td>\n",
              "      <td>0</td>\n",
              "      <td>1</td>\n",
              "      <td>0</td>\n",
              "    </tr>\n",
              "    <tr>\n",
              "      <th>4</th>\n",
              "      <td>0</td>\n",
              "      <td>0</td>\n",
              "      <td>0</td>\n",
              "      <td>1</td>\n",
              "      <td>0</td>\n",
              "      <td>1</td>\n",
              "      <td>0</td>\n",
              "      <td>0</td>\n",
              "      <td>0</td>\n",
              "      <td>0</td>\n",
              "      <td>1</td>\n",
              "      <td>0</td>\n",
              "      <td>1</td>\n",
              "      <td>0</td>\n",
              "      <td>0</td>\n",
              "      <td>0</td>\n",
              "      <td>0</td>\n",
              "      <td>0</td>\n",
              "      <td>0</td>\n",
              "      <td>1</td>\n",
              "      <td>1</td>\n",
              "      <td>0</td>\n",
              "      <td>0</td>\n",
              "      <td>0</td>\n",
              "      <td>1</td>\n",
              "      <td>0</td>\n",
              "      <td>0</td>\n",
              "      <td>0</td>\n",
              "      <td>0</td>\n",
              "      <td>0</td>\n",
              "      <td>0</td>\n",
              "      <td>1</td>\n",
              "      <td>0</td>\n",
              "      <td>0</td>\n",
              "      <td>0</td>\n",
              "      <td>1</td>\n",
              "      <td>1</td>\n",
              "      <td>0</td>\n",
              "      <td>0</td>\n",
              "      <td>0</td>\n",
              "      <td>...</td>\n",
              "      <td>0</td>\n",
              "      <td>1</td>\n",
              "      <td>0</td>\n",
              "      <td>1</td>\n",
              "      <td>0</td>\n",
              "      <td>0</td>\n",
              "      <td>0</td>\n",
              "      <td>1</td>\n",
              "      <td>0</td>\n",
              "      <td>0</td>\n",
              "      <td>0</td>\n",
              "      <td>0</td>\n",
              "      <td>1</td>\n",
              "      <td>0</td>\n",
              "      <td>0</td>\n",
              "      <td>0</td>\n",
              "      <td>0</td>\n",
              "      <td>1</td>\n",
              "      <td>0</td>\n",
              "      <td>0</td>\n",
              "      <td>1</td>\n",
              "      <td>0</td>\n",
              "      <td>0</td>\n",
              "      <td>0</td>\n",
              "      <td>1</td>\n",
              "      <td>0</td>\n",
              "      <td>0</td>\n",
              "      <td>0</td>\n",
              "      <td>0</td>\n",
              "      <td>1</td>\n",
              "      <td>1</td>\n",
              "      <td>0</td>\n",
              "      <td>0</td>\n",
              "      <td>0</td>\n",
              "      <td>0</td>\n",
              "      <td>0</td>\n",
              "      <td>1</td>\n",
              "      <td>0</td>\n",
              "      <td>1</td>\n",
              "      <td>0</td>\n",
              "    </tr>\n",
              "  </tbody>\n",
              "</table>\n",
              "<p>5 rows × 230 columns</p>\n",
              "</div>"
            ],
            "text/plain": [
              "   0_a  0_c  0_g  0_t  1_a  1_c  ...  56_a  56_c  56_g  56_t  Class_+  Class_-\n",
              "0    0    0    0    1    1    0  ...     0     0     0     1        1        0\n",
              "1    0    0    0    1    0    0  ...     1     0     0     0        1        0\n",
              "2    0    0    1    0    0    0  ...     0     0     1     0        1        0\n",
              "3    1    0    0    0    1    0  ...     0     1     0     0        1        0\n",
              "4    0    0    0    1    0    1  ...     0     0     1     0        1        0\n",
              "\n",
              "[5 rows x 230 columns]"
            ]
          },
          "metadata": {
            "tags": []
          },
          "execution_count": 14
        }
      ]
    },
    {
      "cell_type": "code",
      "metadata": {
        "colab": {
          "base_uri": "https://localhost:8080/"
        },
        "id": "-d5tguphmkqK",
        "outputId": "57eb158c-38bc-437f-8abe-c4bead05f963"
      },
      "source": [
        " df = numerical_df.drop(columns=['Class_-'])\n",
        "\n",
        " df.rename(columns={'Class_+': 'Class'}, inplace=True)\n",
        "\n",
        " print(df)"
      ],
      "execution_count": null,
      "outputs": [
        {
          "output_type": "stream",
          "text": [
            "     0_a  0_c  0_g  0_t  1_a  1_c  ...  55_t  56_a  56_c  56_g  56_t  Class\n",
            "0      0    0    0    1    1    0  ...     0     0     0     0     1      1\n",
            "1      0    0    0    1    0    0  ...     0     1     0     0     0      1\n",
            "2      0    0    1    0    0    0  ...     0     0     0     1     0      1\n",
            "3      1    0    0    0    1    0  ...     1     0     1     0     0      1\n",
            "4      0    0    0    1    0    1  ...     0     0     0     1     0      1\n",
            "..   ...  ...  ...  ...  ...  ...  ...   ...   ...   ...   ...   ...    ...\n",
            "101    0    1    0    0    0    1  ...     0     0     0     0     1      0\n",
            "102    0    0    1    0    0    0  ...     1     0     0     1     0      0\n",
            "103    0    1    0    0    0    0  ...     0     0     1     0     0      0\n",
            "104    0    1    0    0    0    0  ...     0     0     1     0     0      0\n",
            "105    0    0    0    1    1    0  ...     0     0     0     0     1      0\n",
            "\n",
            "[106 rows x 229 columns]\n"
          ],
          "name": "stdout"
        }
      ]
    },
    {
      "cell_type": "markdown",
      "metadata": {
        "id": "WP5U4xiKow5l"
      },
      "source": [
        "###About the Algorithm\n",
        "Here we have used a few algorithms to classify the member and non members of promoters.\n",
        "We have used Decision tree, Random Forest, Support vector machine, Logistic regression, linear regression and ANN.\n",
        "These algorithms are described in detail in the Analysis Report."
      ]
    },
    {
      "cell_type": "code",
      "metadata": {
        "id": "i-vpnBOAnxi0"
      },
      "source": [
        "from sklearn.tree import DecisionTreeClassifier\n",
        "from sklearn.ensemble import RandomForestClassifier\n",
        "from sklearn.svm import SVC\n",
        "from sklearn.linear_model import LogisticRegression\n",
        "from sklearn.metrics import classification_report, accuracy_score\n",
        "from sklearn.metrics import f1_score, confusion_matrix\n",
        "import matplotlib.pyplot as plt"
      ],
      "execution_count": null,
      "outputs": []
    },
    {
      "cell_type": "code",
      "metadata": {
        "id": "2a7FoRDSqtZA"
      },
      "source": [
        "from sklearn import model_selection\n",
        "\n",
        "X = np.array(df.drop(['Class'], 1))\n",
        "y = np.array(df['Class'])\n",
        "\n",
        "seed = 1\n",
        "\n",
        "X_train, X_test, y_train, y_test = model_selection.train_test_split(X, y, test_size = 0.25,\n",
        "                                                                    random_state = seed)\n"
      ],
      "execution_count": null,
      "outputs": []
    },
    {
      "cell_type": "code",
      "metadata": {
        "id": "tUhmM6DSsKQa"
      },
      "source": [
        "scoring = 'accuracy'\n",
        "\n",
        "names = [\"Decision Tree\", \"Random Forest\", \"SVM Linear\",\n",
        "         \"SVM RBF\", \"SVM Sigmoid\"]\n",
        "\n",
        "classifiers = [\n",
        "    DecisionTreeClassifier(max_depth=5),\n",
        "    RandomForestClassifier(max_depth=5, n_estimators=10, max_features=5),\n",
        "    SVC(kernel='linear'),\n",
        "    SVC(kernel='rbf'),\n",
        "    SVC(kernel='sigmoid')\n",
        "]\n",
        "\n"
      ],
      "execution_count": null,
      "outputs": []
    },
    {
      "cell_type": "code",
      "metadata": {
        "id": "6KYzqgc4ECmR"
      },
      "source": [
        "models = zip(names, classifiers)\n",
        "results = []\n",
        "names = []"
      ],
      "execution_count": null,
      "outputs": []
    },
    {
      "cell_type": "code",
      "metadata": {
        "colab": {
          "base_uri": "https://localhost:8080/"
        },
        "id": "_XNTZzSf9ChN",
        "outputId": "ddd12ebb-841b-4289-b2b0-a1d9eaa1cffb"
      },
      "source": [
        "for name, model in models:\n",
        "  kfold = model_selection.KFold(n_splits=10) \n",
        "  cv_results = model_selection.cross_val_score(model, X_train, y_train, cv=kfold, scoring = 'accuracy' )\n",
        "  results.append(cv_results)\n",
        "  names.append(name)\n",
        "  msg = \"{0}: {1} ({2})\".format(name, cv_results.mean(), cv_results.std())\n",
        "  print(msg)"
      ],
      "execution_count": null,
      "outputs": [
        {
          "output_type": "stream",
          "text": [
            "Decision Tree: 0.75 (0.21650635094610965)\n",
            "Random Forest: 0.7732142857142856 (0.15506952028831772)\n",
            "SVM Linear: 0.85 (0.10897247358851683)\n",
            "SVM RBF: 0.8875 (0.0673145600891813)\n",
            "SVM Sigmoid: 0.9 (0.09354143466934853)\n"
          ],
          "name": "stdout"
        }
      ]
    },
    {
      "cell_type": "code",
      "metadata": {
        "colab": {
          "base_uri": "https://localhost:8080/",
          "height": 1000
        },
        "id": "IkOqsOlW_PtM",
        "outputId": "419dcc7a-49d1-44ba-e534-7cecd5f0b9f5"
      },
      "source": [
        "models = zip(names, classifiers)\n",
        "for name, model in models:\n",
        "    model.fit(X_train, y_train)\n",
        "    y_pred = model.predict(X_test)\n",
        "    print(name)\n",
        "    print(\"f1 score:{}\\n\".format(f1_score(y_pred,y_test)))\n",
        "    print(\"accuracy score:{}\\n\".format(accuracy_score(y_test, y_pred)))\n",
        "    print(classification_report(y_test, y_pred))\n",
        "    cm = confusion_matrix(y_test, y_pred)\n",
        "    fig, ax = plt.subplots(figsize=(8, 8))\n",
        "    ax.imshow(cm)\n",
        "    ax.grid(False)\n",
        "    ax.xaxis.set(ticks=(0, 1), ticklabels=('Predicted 0s', 'Predicted 1s'))\n",
        "    ax.yaxis.set(ticks=(0, 1), ticklabels=('Actual 0s', 'Actual 1s'))\n",
        "    ax.set_ylim(1.5, -0.5)\n",
        "    for i in range(2):\n",
        "        for j in range(2):\n",
        "            ax.text(j, i, cm[i, j], ha='center', va='center', color='red')\n",
        "    plt.show()"
      ],
      "execution_count": null,
      "outputs": [
        {
          "output_type": "stream",
          "text": [
            "Decision Tree\n",
            "f1 score:0.8181818181818182\n",
            "\n",
            "accuracy score:0.8518518518518519\n",
            "\n",
            "              precision    recall  f1-score   support\n",
            "\n",
            "           0       0.93      0.82      0.87        17\n",
            "           1       0.75      0.90      0.82        10\n",
            "\n",
            "    accuracy                           0.85        27\n",
            "   macro avg       0.84      0.86      0.85        27\n",
            "weighted avg       0.87      0.85      0.85        27\n",
            "\n"
          ],
          "name": "stdout"
        },
        {
          "output_type": "display_data",
          "data": {
            "image/png": "[encoded data removed]",
            "text/plain": [
              "<Figure size 576x576 with 1 Axes>"
            ]
          },
          "metadata": {
            "tags": [],
            "needs_background": "light"
          }
        },
        {
          "output_type": "stream",
          "text": [
            "Random Forest\n",
            "f1 score:0.6923076923076923\n",
            "\n",
            "accuracy score:0.7037037037037037\n",
            "\n",
            "              precision    recall  f1-score   support\n",
            "\n",
            "           0       0.91      0.59      0.71        17\n",
            "           1       0.56      0.90      0.69        10\n",
            "\n",
            "    accuracy                           0.70        27\n",
            "   macro avg       0.74      0.74      0.70        27\n",
            "weighted avg       0.78      0.70      0.71        27\n",
            "\n"
          ],
          "name": "stdout"
        },
        {
          "output_type": "display_data",
          "data": {
            "image/png": "[encoded data removed]",
            "text/plain": [
              "<Figure size 576x576 with 1 Axes>"
            ]
          },
          "metadata": {
            "tags": [],
            "needs_background": "light"
          }
        },
        {
          "output_type": "stream",
          "text": [
            "SVM Linear\n",
            "f1 score:0.9523809523809523\n",
            "\n",
            "accuracy score:0.9629629629629629\n",
            "\n",
            "              precision    recall  f1-score   support\n",
            "\n",
            "           0       1.00      0.94      0.97        17\n",
            "           1       0.91      1.00      0.95        10\n",
            "\n",
            "    accuracy                           0.96        27\n",
            "   macro avg       0.95      0.97      0.96        27\n",
            "weighted avg       0.97      0.96      0.96        27\n",
            "\n"
          ],
          "name": "stdout"
        },
        {
          "output_type": "display_data",
          "data": {
            "image/png": "[encoded data removed]",
            "text/plain": [
              "<Figure size 576x576 with 1 Axes>"
            ]
          },
          "metadata": {
            "tags": [],
            "needs_background": "light"
          }
        },
        {
          "output_type": "stream",
          "text": [
            "SVM RBF\n",
            "f1 score:0.9090909090909091\n",
            "\n",
            "accuracy score:0.9259259259259259\n",
            "\n",
            "              precision    recall  f1-score   support\n",
            "\n",
            "           0       1.00      0.88      0.94        17\n",
            "           1       0.83      1.00      0.91        10\n",
            "\n",
            "    accuracy                           0.93        27\n",
            "   macro avg       0.92      0.94      0.92        27\n",
            "weighted avg       0.94      0.93      0.93        27\n",
            "\n"
          ],
          "name": "stdout"
        },
        {
          "output_type": "display_data",
          "data": {
            "image/png": "[encoded data removed]",
            "text/plain": [
              "<Figure size 576x576 with 1 Axes>"
            ]
          },
          "metadata": {
            "tags": [],
            "needs_background": "light"
          }
        },
        {
          "output_type": "stream",
          "text": [
            "SVM Sigmoid\n",
            "f1 score:0.9090909090909091\n",
            "\n",
            "accuracy score:0.9259259259259259\n",
            "\n",
            "              precision    recall  f1-score   support\n",
            "\n",
            "           0       1.00      0.88      0.94        17\n",
            "           1       0.83      1.00      0.91        10\n",
            "\n",
            "    accuracy                           0.93        27\n",
            "   macro avg       0.92      0.94      0.92        27\n",
            "weighted avg       0.94      0.93      0.93        27\n",
            "\n"
          ],
          "name": "stdout"
        },
        {
          "output_type": "display_data",
          "data": {
            "image/png": "[encoded data removed]",
            "text/plain": [
              "<Figure size 576x576 with 1 Axes>"
            ]
          },
          "metadata": {
            "tags": [],
            "needs_background": "light"
          }
        }
      ]
    },
    {
      "cell_type": "code",
      "metadata": {
        "id": "nJnSGZjiIyYK"
      },
      "source": [
        "import tensorflow as tf\n",
        "from tensorflow import keras\n",
        "from keras.models import Sequential\n",
        "from keras.layers import Dense"
      ],
      "execution_count": null,
      "outputs": []
    },
    {
      "cell_type": "code",
      "metadata": {
        "id": "rIJt0tbLJSWC"
      },
      "source": [
        "model = Sequential()\n",
        "model.add(Dense(16, input_dim=228, activation='relu'))\n",
        "model.add(Dense(8, activation='relu'))\n",
        "model.add(Dense(8, activation='relu'))\n",
        "model.add(Dense(1, activation='sigmoid'))"
      ],
      "execution_count": null,
      "outputs": []
    },
    {
      "cell_type": "code",
      "metadata": {
        "id": "Bj3_ec0xMa6I"
      },
      "source": [
        "model.compile(loss='binary_crossentropy', optimizer='adam', metrics=['accuracy'])"
      ],
      "execution_count": null,
      "outputs": []
    },
    {
      "cell_type": "code",
      "metadata": {
        "colab": {
          "base_uri": "https://localhost:8080/"
        },
        "id": "gt_VL_Q7MmEf",
        "outputId": "3bcbb9c4-6da9-49b7-8e0d-5e84b1c84844"
      },
      "source": [
        "\n",
        "model.fit(X_train, y_train, epochs=150, batch_size=10)"
      ],
      "execution_count": null,
      "outputs": [
        {
          "output_type": "stream",
          "text": [
            "Epoch 1/150\n",
            "8/8 [==============================] - 1s 2ms/step - loss: 0.7255 - accuracy: 0.5162\n",
            "Epoch 2/150\n",
            "8/8 [==============================] - 0s 2ms/step - loss: 0.6685 - accuracy: 0.5551\n",
            "Epoch 3/150\n",
            "8/8 [==============================] - 0s 3ms/step - loss: 0.6127 - accuracy: 0.5721\n",
            "Epoch 4/150\n",
            "8/8 [==============================] - 0s 2ms/step - loss: 0.5747 - accuracy: 0.5892\n",
            "Epoch 5/150\n",
            "8/8 [==============================] - 0s 3ms/step - loss: 0.5349 - accuracy: 0.5757\n",
            "Epoch 6/150\n",
            "8/8 [==============================] - 0s 2ms/step - loss: 0.5476 - accuracy: 0.5350\n",
            "Epoch 7/150\n",
            "8/8 [==============================] - 0s 2ms/step - loss: 0.4918 - accuracy: 0.6200\n",
            "Epoch 8/150\n",
            "8/8 [==============================] - 0s 2ms/step - loss: 0.4225 - accuracy: 0.7019\n",
            "Epoch 9/150\n",
            "8/8 [==============================] - 0s 2ms/step - loss: 0.3956 - accuracy: 0.7714\n",
            "Epoch 10/150\n",
            "8/8 [==============================] - 0s 5ms/step - loss: 0.4089 - accuracy: 0.7983\n",
            "Epoch 11/150\n",
            "8/8 [==============================] - 0s 2ms/step - loss: 0.3997 - accuracy: 0.8872\n",
            "Epoch 12/150\n",
            "8/8 [==============================] - 0s 3ms/step - loss: 0.3572 - accuracy: 0.9280\n",
            "Epoch 13/150\n",
            "8/8 [==============================] - 0s 2ms/step - loss: 0.3508 - accuracy: 0.9802\n",
            "Epoch 14/150\n",
            "8/8 [==============================] - 0s 2ms/step - loss: 0.3401 - accuracy: 0.8902\n",
            "Epoch 15/150\n",
            "8/8 [==============================] - 0s 2ms/step - loss: 0.3356 - accuracy: 0.9915\n",
            "Epoch 16/150\n",
            "8/8 [==============================] - 0s 4ms/step - loss: 0.3125 - accuracy: 0.9956\n",
            "Epoch 17/150\n",
            "8/8 [==============================] - 0s 2ms/step - loss: 0.2806 - accuracy: 1.0000\n",
            "Epoch 18/150\n",
            "8/8 [==============================] - 0s 2ms/step - loss: 0.2712 - accuracy: 1.0000\n",
            "Epoch 19/150\n",
            "8/8 [==============================] - 0s 3ms/step - loss: 0.2358 - accuracy: 1.0000\n",
            "Epoch 20/150\n",
            "8/8 [==============================] - 0s 2ms/step - loss: 0.2115 - accuracy: 1.0000\n",
            "Epoch 21/150\n",
            "8/8 [==============================] - 0s 3ms/step - loss: 0.1733 - accuracy: 1.0000\n",
            "Epoch 22/150\n",
            "8/8 [==============================] - 0s 3ms/step - loss: 0.1875 - accuracy: 1.0000\n",
            "Epoch 23/150\n",
            "8/8 [==============================] - 0s 3ms/step - loss: 0.1412 - accuracy: 1.0000\n",
            "Epoch 24/150\n",
            "8/8 [==============================] - 0s 3ms/step - loss: 0.1268 - accuracy: 1.0000\n",
            "Epoch 25/150\n",
            "8/8 [==============================] - 0s 2ms/step - loss: 0.1039 - accuracy: 1.0000\n",
            "Epoch 26/150\n",
            "8/8 [==============================] - 0s 3ms/step - loss: 0.0650 - accuracy: 1.0000\n",
            "Epoch 27/150\n",
            "8/8 [==============================] - 0s 5ms/step - loss: 0.0662 - accuracy: 1.0000\n",
            "Epoch 28/150\n",
            "8/8 [==============================] - 0s 4ms/step - loss: 0.0381 - accuracy: 1.0000\n",
            "Epoch 29/150\n",
            "8/8 [==============================] - 0s 3ms/step - loss: 0.0316 - accuracy: 1.0000\n",
            "Epoch 30/150\n",
            "8/8 [==============================] - 0s 3ms/step - loss: 0.0298 - accuracy: 1.0000\n",
            "Epoch 31/150\n",
            "8/8 [==============================] - 0s 4ms/step - loss: 0.0208 - accuracy: 1.0000\n",
            "Epoch 32/150\n",
            "8/8 [==============================] - 0s 2ms/step - loss: 0.0169 - accuracy: 1.0000\n",
            "Epoch 33/150\n",
            "8/8 [==============================] - 0s 2ms/step - loss: 0.0165 - accuracy: 1.0000\n",
            "Epoch 34/150\n",
            "8/8 [==============================] - 0s 2ms/step - loss: 0.0136 - accuracy: 1.0000\n",
            "Epoch 35/150\n",
            "8/8 [==============================] - 0s 3ms/step - loss: 0.0123 - accuracy: 1.0000\n",
            "Epoch 36/150\n",
            "8/8 [==============================] - 0s 2ms/step - loss: 0.0094 - accuracy: 1.0000\n",
            "Epoch 37/150\n",
            "8/8 [==============================] - 0s 3ms/step - loss: 0.0102 - accuracy: 1.0000\n",
            "Epoch 38/150\n",
            "8/8 [==============================] - 0s 3ms/step - loss: 0.0096 - accuracy: 1.0000\n",
            "Epoch 39/150\n",
            "8/8 [==============================] - 0s 2ms/step - loss: 0.0078 - accuracy: 1.0000\n",
            "Epoch 40/150\n",
            "8/8 [==============================] - 0s 3ms/step - loss: 0.0076 - accuracy: 1.0000\n",
            "Epoch 41/150\n",
            "8/8 [==============================] - 0s 2ms/step - loss: 0.0071 - accuracy: 1.0000\n",
            "Epoch 42/150\n",
            "8/8 [==============================] - 0s 3ms/step - loss: 0.0054 - accuracy: 1.0000\n",
            "Epoch 43/150\n",
            "8/8 [==============================] - 0s 3ms/step - loss: 0.0053 - accuracy: 1.0000\n",
            "Epoch 44/150\n",
            "8/8 [==============================] - 0s 3ms/step - loss: 0.0047 - accuracy: 1.0000\n",
            "Epoch 45/150\n",
            "8/8 [==============================] - 0s 2ms/step - loss: 0.0046 - accuracy: 1.0000\n",
            "Epoch 46/150\n",
            "8/8 [==============================] - 0s 2ms/step - loss: 0.0040 - accuracy: 1.0000\n",
            "Epoch 47/150\n",
            "8/8 [==============================] - 0s 3ms/step - loss: 0.0041 - accuracy: 1.0000\n",
            "Epoch 48/150\n",
            "8/8 [==============================] - 0s 2ms/step - loss: 0.0037 - accuracy: 1.0000\n",
            "Epoch 49/150\n",
            "8/8 [==============================] - 0s 2ms/step - loss: 0.0038 - accuracy: 1.0000\n",
            "Epoch 50/150\n",
            "8/8 [==============================] - 0s 2ms/step - loss: 0.0035 - accuracy: 1.0000\n",
            "Epoch 51/150\n",
            "8/8 [==============================] - 0s 2ms/step - loss: 0.0032 - accuracy: 1.0000\n",
            "Epoch 52/150\n",
            "8/8 [==============================] - 0s 2ms/step - loss: 0.0029 - accuracy: 1.0000\n",
            "Epoch 53/150\n",
            "8/8 [==============================] - 0s 3ms/step - loss: 0.0028 - accuracy: 1.0000\n",
            "Epoch 54/150\n",
            "8/8 [==============================] - 0s 3ms/step - loss: 0.0028 - accuracy: 1.0000\n",
            "Epoch 55/150\n",
            "8/8 [==============================] - 0s 3ms/step - loss: 0.0023 - accuracy: 1.0000\n",
            "Epoch 56/150\n",
            "8/8 [==============================] - 0s 2ms/step - loss: 0.0022 - accuracy: 1.0000\n",
            "Epoch 57/150\n",
            "8/8 [==============================] - 0s 3ms/step - loss: 0.0025 - accuracy: 1.0000\n",
            "Epoch 58/150\n",
            "8/8 [==============================] - 0s 3ms/step - loss: 0.0022 - accuracy: 1.0000\n",
            "Epoch 59/150\n",
            "8/8 [==============================] - 0s 2ms/step - loss: 0.0019 - accuracy: 1.0000\n",
            "Epoch 60/150\n",
            "8/8 [==============================] - 0s 3ms/step - loss: 0.0022 - accuracy: 1.0000\n",
            "Epoch 61/150\n",
            "8/8 [==============================] - 0s 2ms/step - loss: 0.0019 - accuracy: 1.0000\n",
            "Epoch 62/150\n",
            "8/8 [==============================] - 0s 3ms/step - loss: 0.0019 - accuracy: 1.0000\n",
            "Epoch 63/150\n",
            "8/8 [==============================] - 0s 3ms/step - loss: 0.0017 - accuracy: 1.0000\n",
            "Epoch 64/150\n",
            "8/8 [==============================] - 0s 2ms/step - loss: 0.0017 - accuracy: 1.0000\n",
            "Epoch 65/150\n",
            "8/8 [==============================] - 0s 3ms/step - loss: 0.0015 - accuracy: 1.0000\n",
            "Epoch 66/150\n",
            "8/8 [==============================] - 0s 3ms/step - loss: 0.0015 - accuracy: 1.0000\n",
            "Epoch 67/150\n",
            "8/8 [==============================] - 0s 3ms/step - loss: 0.0014 - accuracy: 1.0000\n",
            "Epoch 68/150\n",
            "8/8 [==============================] - 0s 2ms/step - loss: 0.0015 - accuracy: 1.0000\n",
            "Epoch 69/150\n",
            "8/8 [==============================] - 0s 3ms/step - loss: 0.0013 - accuracy: 1.0000\n",
            "Epoch 70/150\n",
            "8/8 [==============================] - 0s 3ms/step - loss: 0.0014 - accuracy: 1.0000\n",
            "Epoch 71/150\n",
            "8/8 [==============================] - 0s 3ms/step - loss: 0.0014 - accuracy: 1.0000\n",
            "Epoch 72/150\n",
            "8/8 [==============================] - 0s 3ms/step - loss: 0.0013 - accuracy: 1.0000\n",
            "Epoch 73/150\n",
            "8/8 [==============================] - 0s 3ms/step - loss: 0.0014 - accuracy: 1.0000\n",
            "Epoch 74/150\n",
            "8/8 [==============================] - 0s 2ms/step - loss: 0.0012 - accuracy: 1.0000\n",
            "Epoch 75/150\n",
            "8/8 [==============================] - 0s 2ms/step - loss: 0.0011 - accuracy: 1.0000\n",
            "Epoch 76/150\n",
            "8/8 [==============================] - 0s 3ms/step - loss: 0.0012 - accuracy: 1.0000\n",
            "Epoch 77/150\n",
            "8/8 [==============================] - 0s 5ms/step - loss: 9.6442e-04 - accuracy: 1.0000\n",
            "Epoch 78/150\n",
            "8/8 [==============================] - 0s 3ms/step - loss: 8.6341e-04 - accuracy: 1.0000\n",
            "Epoch 79/150\n",
            "8/8 [==============================] - 0s 2ms/step - loss: 0.0010 - accuracy: 1.0000\n",
            "Epoch 80/150\n",
            "8/8 [==============================] - 0s 3ms/step - loss: 0.0010 - accuracy: 1.0000\n",
            "Epoch 81/150\n",
            "8/8 [==============================] - 0s 3ms/step - loss: 8.7411e-04 - accuracy: 1.0000\n",
            "Epoch 82/150\n",
            "8/8 [==============================] - 0s 3ms/step - loss: 9.4212e-04 - accuracy: 1.0000\n",
            "Epoch 83/150\n",
            "8/8 [==============================] - 0s 4ms/step - loss: 9.2815e-04 - accuracy: 1.0000\n",
            "Epoch 84/150\n",
            "8/8 [==============================] - 0s 2ms/step - loss: 8.5485e-04 - accuracy: 1.0000\n",
            "Epoch 85/150\n",
            "8/8 [==============================] - 0s 3ms/step - loss: 7.5764e-04 - accuracy: 1.0000\n",
            "Epoch 86/150\n",
            "8/8 [==============================] - 0s 3ms/step - loss: 8.2128e-04 - accuracy: 1.0000\n",
            "Epoch 87/150\n",
            "8/8 [==============================] - 0s 3ms/step - loss: 7.6046e-04 - accuracy: 1.0000\n",
            "Epoch 88/150\n",
            "8/8 [==============================] - 0s 3ms/step - loss: 7.2009e-04 - accuracy: 1.0000\n",
            "Epoch 89/150\n",
            "8/8 [==============================] - 0s 3ms/step - loss: 6.9280e-04 - accuracy: 1.0000\n",
            "Epoch 90/150\n",
            "8/8 [==============================] - 0s 3ms/step - loss: 7.4126e-04 - accuracy: 1.0000\n",
            "Epoch 91/150\n",
            "8/8 [==============================] - 0s 3ms/step - loss: 6.7959e-04 - accuracy: 1.0000\n",
            "Epoch 92/150\n",
            "8/8 [==============================] - 0s 2ms/step - loss: 7.9721e-04 - accuracy: 1.0000\n",
            "Epoch 93/150\n",
            "8/8 [==============================] - 0s 2ms/step - loss: 6.5255e-04 - accuracy: 1.0000\n",
            "Epoch 94/150\n",
            "8/8 [==============================] - 0s 4ms/step - loss: 6.1014e-04 - accuracy: 1.0000\n",
            "Epoch 95/150\n",
            "8/8 [==============================] - 0s 2ms/step - loss: 6.3160e-04 - accuracy: 1.0000\n",
            "Epoch 96/150\n",
            "8/8 [==============================] - 0s 2ms/step - loss: 5.2885e-04 - accuracy: 1.0000\n",
            "Epoch 97/150\n",
            "8/8 [==============================] - 0s 3ms/step - loss: 5.3676e-04 - accuracy: 1.0000\n",
            "Epoch 98/150\n",
            "8/8 [==============================] - 0s 3ms/step - loss: 6.2269e-04 - accuracy: 1.0000\n",
            "Epoch 99/150\n",
            "8/8 [==============================] - 0s 2ms/step - loss: 5.6704e-04 - accuracy: 1.0000\n",
            "Epoch 100/150\n",
            "8/8 [==============================] - 0s 3ms/step - loss: 4.9579e-04 - accuracy: 1.0000\n",
            "Epoch 101/150\n",
            "8/8 [==============================] - 0s 2ms/step - loss: 5.5353e-04 - accuracy: 1.0000\n",
            "Epoch 102/150\n",
            "8/8 [==============================] - 0s 3ms/step - loss: 5.3444e-04 - accuracy: 1.0000\n",
            "Epoch 103/150\n",
            "8/8 [==============================] - 0s 3ms/step - loss: 4.8367e-04 - accuracy: 1.0000\n",
            "Epoch 104/150\n",
            "8/8 [==============================] - 0s 3ms/step - loss: 5.5155e-04 - accuracy: 1.0000\n",
            "Epoch 105/150\n",
            "8/8 [==============================] - 0s 3ms/step - loss: 4.7415e-04 - accuracy: 1.0000\n",
            "Epoch 106/150\n",
            "8/8 [==============================] - 0s 3ms/step - loss: 4.9376e-04 - accuracy: 1.0000\n",
            "Epoch 107/150\n",
            "8/8 [==============================] - 0s 3ms/step - loss: 4.8491e-04 - accuracy: 1.0000\n",
            "Epoch 108/150\n",
            "8/8 [==============================] - 0s 3ms/step - loss: 4.6874e-04 - accuracy: 1.0000\n",
            "Epoch 109/150\n",
            "8/8 [==============================] - 0s 3ms/step - loss: 4.6818e-04 - accuracy: 1.0000\n",
            "Epoch 110/150\n",
            "8/8 [==============================] - 0s 5ms/step - loss: 4.4338e-04 - accuracy: 1.0000\n",
            "Epoch 111/150\n",
            "8/8 [==============================] - 0s 3ms/step - loss: 4.1398e-04 - accuracy: 1.0000\n",
            "Epoch 112/150\n",
            "8/8 [==============================] - 0s 3ms/step - loss: 4.5934e-04 - accuracy: 1.0000\n",
            "Epoch 113/150\n",
            "8/8 [==============================] - 0s 3ms/step - loss: 3.8020e-04 - accuracy: 1.0000\n",
            "Epoch 114/150\n",
            "8/8 [==============================] - 0s 2ms/step - loss: 3.8408e-04 - accuracy: 1.0000\n",
            "Epoch 115/150\n",
            "8/8 [==============================] - 0s 3ms/step - loss: 4.0650e-04 - accuracy: 1.0000\n",
            "Epoch 116/150\n",
            "8/8 [==============================] - 0s 2ms/step - loss: 4.4741e-04 - accuracy: 1.0000\n",
            "Epoch 117/150\n",
            "8/8 [==============================] - 0s 3ms/step - loss: 3.9865e-04 - accuracy: 1.0000\n",
            "Epoch 118/150\n",
            "8/8 [==============================] - 0s 2ms/step - loss: 3.9902e-04 - accuracy: 1.0000\n",
            "Epoch 119/150\n",
            "8/8 [==============================] - 0s 3ms/step - loss: 3.7442e-04 - accuracy: 1.0000\n",
            "Epoch 120/150\n",
            "8/8 [==============================] - 0s 3ms/step - loss: 3.6990e-04 - accuracy: 1.0000\n",
            "Epoch 121/150\n",
            "8/8 [==============================] - 0s 3ms/step - loss: 3.3376e-04 - accuracy: 1.0000\n",
            "Epoch 122/150\n",
            "8/8 [==============================] - 0s 4ms/step - loss: 3.2267e-04 - accuracy: 1.0000\n",
            "Epoch 123/150\n",
            "8/8 [==============================] - 0s 3ms/step - loss: 3.2662e-04 - accuracy: 1.0000\n",
            "Epoch 124/150\n",
            "8/8 [==============================] - 0s 3ms/step - loss: 3.0492e-04 - accuracy: 1.0000\n",
            "Epoch 125/150\n",
            "8/8 [==============================] - 0s 3ms/step - loss: 3.2866e-04 - accuracy: 1.0000\n",
            "Epoch 126/150\n",
            "8/8 [==============================] - 0s 3ms/step - loss: 3.2155e-04 - accuracy: 1.0000\n",
            "Epoch 127/150\n",
            "8/8 [==============================] - 0s 3ms/step - loss: 3.5153e-04 - accuracy: 1.0000\n",
            "Epoch 128/150\n",
            "8/8 [==============================] - 0s 2ms/step - loss: 2.8879e-04 - accuracy: 1.0000\n",
            "Epoch 129/150\n",
            "8/8 [==============================] - 0s 3ms/step - loss: 3.0617e-04 - accuracy: 1.0000\n",
            "Epoch 130/150\n",
            "8/8 [==============================] - 0s 2ms/step - loss: 3.1373e-04 - accuracy: 1.0000\n",
            "Epoch 131/150\n",
            "8/8 [==============================] - 0s 3ms/step - loss: 2.9889e-04 - accuracy: 1.0000\n",
            "Epoch 132/150\n",
            "8/8 [==============================] - 0s 3ms/step - loss: 2.9580e-04 - accuracy: 1.0000\n",
            "Epoch 133/150\n",
            "8/8 [==============================] - 0s 2ms/step - loss: 2.6490e-04 - accuracy: 1.0000\n",
            "Epoch 134/150\n",
            "8/8 [==============================] - 0s 3ms/step - loss: 2.6453e-04 - accuracy: 1.0000\n",
            "Epoch 135/150\n",
            "8/8 [==============================] - 0s 2ms/step - loss: 2.7966e-04 - accuracy: 1.0000\n",
            "Epoch 136/150\n",
            "8/8 [==============================] - 0s 3ms/step - loss: 2.5801e-04 - accuracy: 1.0000\n",
            "Epoch 137/150\n",
            "8/8 [==============================] - 0s 2ms/step - loss: 2.7154e-04 - accuracy: 1.0000\n",
            "Epoch 138/150\n",
            "8/8 [==============================] - 0s 2ms/step - loss: 2.2029e-04 - accuracy: 1.0000\n",
            "Epoch 139/150\n",
            "8/8 [==============================] - 0s 2ms/step - loss: 2.4804e-04 - accuracy: 1.0000\n",
            "Epoch 140/150\n",
            "8/8 [==============================] - 0s 2ms/step - loss: 2.7266e-04 - accuracy: 1.0000\n",
            "Epoch 141/150\n",
            "8/8 [==============================] - 0s 2ms/step - loss: 2.1227e-04 - accuracy: 1.0000\n",
            "Epoch 142/150\n",
            "8/8 [==============================] - 0s 3ms/step - loss: 2.3136e-04 - accuracy: 1.0000\n",
            "Epoch 143/150\n",
            "8/8 [==============================] - 0s 2ms/step - loss: 2.3461e-04 - accuracy: 1.0000\n",
            "Epoch 144/150\n",
            "8/8 [==============================] - 0s 2ms/step - loss: 2.2161e-04 - accuracy: 1.0000\n",
            "Epoch 145/150\n",
            "8/8 [==============================] - 0s 4ms/step - loss: 2.2871e-04 - accuracy: 1.0000\n",
            "Epoch 146/150\n",
            "8/8 [==============================] - 0s 3ms/step - loss: 2.4511e-04 - accuracy: 1.0000\n",
            "Epoch 147/150\n",
            "8/8 [==============================] - 0s 3ms/step - loss: 2.2283e-04 - accuracy: 1.0000\n",
            "Epoch 148/150\n",
            "8/8 [==============================] - 0s 3ms/step - loss: 2.2789e-04 - accuracy: 1.0000\n",
            "Epoch 149/150\n",
            "8/8 [==============================] - 0s 3ms/step - loss: 2.2955e-04 - accuracy: 1.0000\n",
            "Epoch 150/150\n",
            "8/8 [==============================] - 0s 2ms/step - loss: 2.1857e-04 - accuracy: 1.0000\n"
          ],
          "name": "stdout"
        },
        {
          "output_type": "execute_result",
          "data": {
            "text/plain": [
              "<tensorflow.python.keras.callbacks.History at 0x7f1ff8798e50>"
            ]
          },
          "metadata": {
            "tags": []
          },
          "execution_count": 25
        }
      ]
    },
    {
      "cell_type": "code",
      "metadata": {
        "colab": {
          "base_uri": "https://localhost:8080/"
        },
        "id": "1Cfx9inXMxwz",
        "outputId": "69fd9141-4434-4024-dd82-ba7cc33c89d1"
      },
      "source": [
        "model.summary()\n",
        "y_pred = model.predict(X_test)\n",
        "\n",
        "for i in range(len(y_pred)):\n",
        "    \n",
        "  if y_pred[i] >=0.5:\n",
        "      y_pred[i]= int(1)\n",
        "  else:  \n",
        "      y_pred[i]= 0\n",
        "\n",
        "\n"
      ],
      "execution_count": null,
      "outputs": [
        {
          "output_type": "stream",
          "text": [
            "Model: \"sequential\"\n",
            "_________________________________________________________________\n",
            "Layer (type)                 Output Shape              Param #   \n",
            "=================================================================\n",
            "dense (Dense)                (None, 16)                3664      \n",
            "_________________________________________________________________\n",
            "dense_1 (Dense)              (None, 8)                 136       \n",
            "_________________________________________________________________\n",
            "dense_2 (Dense)              (None, 8)                 72        \n",
            "_________________________________________________________________\n",
            "dense_3 (Dense)              (None, 1)                 9         \n",
            "=================================================================\n",
            "Total params: 3,881\n",
            "Trainable params: 3,881\n",
            "Non-trainable params: 0\n",
            "_________________________________________________________________\n"
          ],
          "name": "stdout"
        }
      ]
    },
    {
      "cell_type": "code",
      "metadata": {
        "colab": {
          "base_uri": "https://localhost:8080/",
          "height": 721
        },
        "id": "BVQ8sfH7PgY-",
        "outputId": "a788a397-4ca8-4fb3-96d1-2984281fdea5"
      },
      "source": [
        "print('ANN')\n",
        "print(\"f1 score:{}\\n\".format(f1_score(y_pred,y_test)))\n",
        "print(\"accuracy score:{}\\n\".format(accuracy_score(y_test, y_pred)))\n",
        "print(classification_report(y_test, y_pred))\n",
        "cm = confusion_matrix(y_test, y_pred)\n",
        "fig, ax = plt.subplots(figsize=(8, 8))\n",
        "ax.imshow(cm)\n",
        "ax.grid(False)\n",
        "ax.xaxis.set(ticks=(0, 1), ticklabels=('Predicted 0s', 'Predicted 1s'))\n",
        "ax.yaxis.set(ticks=(0, 1), ticklabels=('Actual 0s', 'Actual 1s'))\n",
        "ax.set_ylim(1.5, -0.5)\n",
        "for i in range(2):\n",
        "    for j in range(2):\n",
        "        ax.text(j, i, cm[i, j], ha='center', va='center', color='red')\n",
        "plt.show()"
      ],
      "execution_count": null,
      "outputs": [
        {
          "output_type": "stream",
          "text": [
            "ANN\n",
            "f1 score:0.8333333333333333\n",
            "\n",
            "accuracy score:0.8518518518518519\n",
            "\n",
            "              precision    recall  f1-score   support\n",
            "\n",
            "           0       1.00      0.76      0.87        17\n",
            "           1       0.71      1.00      0.83        10\n",
            "\n",
            "    accuracy                           0.85        27\n",
            "   macro avg       0.86      0.88      0.85        27\n",
            "weighted avg       0.89      0.85      0.85        27\n",
            "\n"
          ],
          "name": "stdout"
        },
        {
          "output_type": "display_data",
          "data": {
            "image/png": "[encoded data removed]",
            "text/plain": [
              "<Figure size 576x576 with 1 Axes>"
            ]
          },
          "metadata": {
            "tags": [],
            "needs_background": "light"
          }
        }
      ]
    },
    {
      "cell_type": "code",
      "metadata": {
        "id": "CarNfr3mP4WV"
      },
      "source": [
        "from sklearn.linear_model import LinearRegression\n",
        "reg = LinearRegression().fit(X_train, y_train)"
      ],
      "execution_count": null,
      "outputs": []
    },
    {
      "cell_type": "code",
      "metadata": {
        "id": "qgwJCl6OQOD1"
      },
      "source": [
        "y_pred = reg.predict(X_test)\n",
        "\n",
        "for i in range(len(y_pred)):\n",
        "    \n",
        "  if y_pred[i] >=0.5:\n",
        "      y_pred[i]= int(1)\n",
        "  else:  \n",
        "      y_pred[i]= 0"
      ],
      "execution_count": null,
      "outputs": []
    },
    {
      "cell_type": "code",
      "metadata": {
        "colab": {
          "base_uri": "https://localhost:8080/",
          "height": 721
        },
        "id": "GgHEoscKQXUt",
        "outputId": "8878b967-5346-4344-d479-862efaffd8e4"
      },
      "source": [
        "print('Linear regression')\n",
        "print(\"f1 score:{}\\n\".format(f1_score(y_pred,y_test)))\n",
        "print(\"accuracy score:{}\\n\".format(accuracy_score(y_test, y_pred)))\n",
        "print(classification_report(y_test, y_pred))\n",
        "cm = confusion_matrix(y_test, y_pred)\n",
        "\n",
        "fig, ax = plt.subplots(figsize=(8, 8))\n",
        "ax.imshow(cm)\n",
        "ax.grid(False)\n",
        "ax.xaxis.set(ticks=(0, 1), ticklabels=('Predicted 0s', 'Predicted 1s'))\n",
        "ax.yaxis.set(ticks=(0, 1), ticklabels=('Actual 0s', 'Actual 1s'))\n",
        "ax.set_ylim(1.5, -0.5)\n",
        "for i in range(2):\n",
        "    for j in range(2):\n",
        "        ax.text(j, i, cm[i, j], ha='center', va='center', color='red')\n",
        "plt.show()"
      ],
      "execution_count": null,
      "outputs": [
        {
          "output_type": "stream",
          "text": [
            "Linear regression\n",
            "f1 score:0.8181818181818182\n",
            "\n",
            "accuracy score:0.8518518518518519\n",
            "\n",
            "              precision    recall  f1-score   support\n",
            "\n",
            "           0       0.93      0.82      0.87        17\n",
            "           1       0.75      0.90      0.82        10\n",
            "\n",
            "    accuracy                           0.85        27\n",
            "   macro avg       0.84      0.86      0.85        27\n",
            "weighted avg       0.87      0.85      0.85        27\n",
            "\n"
          ],
          "name": "stdout"
        },
        {
          "output_type": "display_data",
          "data": {
            "image/png": "[encoded data removed]",
            "text/plain": [
              "<Figure size 576x576 with 1 Axes>"
            ]
          },
          "metadata": {
            "tags": [],
            "needs_background": "light"
          }
        }
      ]
    },
    {
      "cell_type": "code",
      "metadata": {
        "id": "88mH6ab72dEE"
      },
      "source": [
        "import numpy as np\n",
        "from sklearn.cluster import KMeans"
      ],
      "execution_count": null,
      "outputs": []
    },
    {
      "cell_type": "code",
      "metadata": {
        "id": "2CWXfH1LQapY"
      },
      "source": [
        "\n",
        "n_clusters = len(np.unique(y_train))\n",
        "clf = KMeans(n_clusters = n_clusters, random_state=42)\n",
        "clf.fit(X_train)\n",
        "y_labels_test = clf.predict(X_test)"
      ],
      "execution_count": null,
      "outputs": []
    },
    {
      "cell_type": "code",
      "metadata": {
        "colab": {
          "base_uri": "https://localhost:8080/",
          "height": 568
        },
        "id": "al9JAo192E9F",
        "outputId": "0e775109-7ecb-4212-8466-8945bc5e86cc"
      },
      "source": [
        "print(\"KMeansClustering\")\n",
        "print(\"f1 score:{}\\n\".format(f1_score(y_labels_test,y_test)))\n",
        "print(\"accuracy score:{}\\n\".format(accuracy_score(y_labels_test, y_test)))\n",
        "cm = confusion_matrix(y_labels_test, y_test)\n",
        "\n",
        "fig, ax = plt.subplots(figsize=(8, 8))\n",
        "ax.imshow(cm)\n",
        "ax.grid(False)\n",
        "ax.xaxis.set(ticks=(0, 1), ticklabels=('Predicted 0s', 'Predicted 1s'))\n",
        "ax.yaxis.set(ticks=(0, 1), ticklabels=('Actual 0s', 'Actual 1s'))\n",
        "ax.set_ylim(1.5, -0.5)\n",
        "for i in range(2):\n",
        "    for j in range(2):\n",
        "        ax.text(j, i, cm[i, j], ha='center', va='center', color='red')\n",
        "plt.show()\n"
      ],
      "execution_count": null,
      "outputs": [
        {
          "output_type": "stream",
          "text": [
            "KMeansClustering\n",
            "f1 score:0.26666666666666666\n",
            "\n",
            "accuracy score:0.5925925925925926\n",
            "\n"
          ],
          "name": "stdout"
        },
        {
          "output_type": "display_data",
          "data": {
            "image/png": "[encoded data removed]",
            "text/plain": [
              "<Figure size 576x576 with 1 Axes>"
            ]
          },
          "metadata": {
            "tags": [],
            "needs_background": "light"
          }
        }
      ]
    },
    {
      "cell_type": "code",
      "metadata": {
        "id": "15fFuqJT7uop"
      },
      "source": [
        "from sklearn.linear_model import LogisticRegression\n"
      ],
      "execution_count": null,
      "outputs": []
    },
    {
      "cell_type": "code",
      "metadata": {
        "colab": {
          "base_uri": "https://localhost:8080/"
        },
        "id": "JUsDnhFe8S8E",
        "outputId": "a6cb0749-8e1b-4568-ef14-45a0e16bb7c9"
      },
      "source": [
        "model = LogisticRegression(solver='liblinear', random_state=0)\n",
        "model.fit(X_train, y_train)\n"
      ],
      "execution_count": null,
      "outputs": [
        {
          "output_type": "execute_result",
          "data": {
            "text/plain": [
              "LogisticRegression(C=1.0, class_weight=None, dual=False, fit_intercept=True,\n",
              "                   intercept_scaling=1, l1_ratio=None, max_iter=100,\n",
              "                   multi_class='auto', n_jobs=None, penalty='l2',\n",
              "                   random_state=0, solver='liblinear', tol=0.0001, verbose=0,\n",
              "                   warm_start=False)"
            ]
          },
          "metadata": {
            "tags": []
          },
          "execution_count": 35
        }
      ]
    },
    {
      "cell_type": "code",
      "metadata": {
        "id": "Rp49EZ_y8Ym0"
      },
      "source": [
        "y_pred = model.predict(X_test)\n"
      ],
      "execution_count": null,
      "outputs": []
    },
    {
      "cell_type": "code",
      "metadata": {
        "colab": {
          "base_uri": "https://localhost:8080/",
          "height": 551
        },
        "id": "b-Ca05id8p58",
        "outputId": "111fa809-8db7-4651-e5cf-965e22c349ad"
      },
      "source": [
        "print(\"f1 score:{}\\n\".format(f1_score(y_pred,y_test)))\n",
        "print(\"accuracy score:{}\\n\".format(accuracy_score(y_test, y_pred)))\n",
        "cm = confusion_matrix(y_test, y_pred)\n",
        "\n",
        "fig, ax = plt.subplots(figsize=(8, 8))\n",
        "ax.imshow(cm)\n",
        "ax.grid(False)\n",
        "ax.xaxis.set(ticks=(0, 1), ticklabels=('Predicted 0s', 'Predicted 1s'))\n",
        "ax.yaxis.set(ticks=(0, 1), ticklabels=('Actual 0s', 'Actual 1s'))\n",
        "ax.set_ylim(1.5, -0.5)\n",
        "for i in range(2):\n",
        "    for j in range(2):\n",
        "        ax.text(j, i, cm[i, j], ha='center', va='center', color='red')\n",
        "plt.show()"
      ],
      "execution_count": null,
      "outputs": [
        {
          "output_type": "stream",
          "text": [
            "f1 score:0.9090909090909091\n",
            "\n",
            "accuracy score:0.9259259259259259\n",
            "\n"
          ],
          "name": "stdout"
        },
        {
          "output_type": "display_data",
          "data": {
            "image/png": "[encoded data removed]",
            "text/plain": [
              "<Figure size 576x576 with 1 Axes>"
            ]
          },
          "metadata": {
            "tags": [],
            "needs_background": "light"
          }
        }
      ]
    },
    {
      "cell_type": "code",
      "metadata": {
        "id": "1j64UIIg85WJ"
      },
      "source": [],
      "execution_count": null,
      "outputs": []
    }
  ]
}